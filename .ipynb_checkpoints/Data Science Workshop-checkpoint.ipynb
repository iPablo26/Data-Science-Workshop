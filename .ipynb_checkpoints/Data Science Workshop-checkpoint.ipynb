{
 "cells": [
  {
   "cell_type": "markdown",
   "metadata": {},
   "source": [
    "### Overview of Python"
   ]
  },
  {
   "cell_type": "code",
   "execution_count": 1,
   "metadata": {
    "ExecuteTime": {
     "end_time": "2020-11-27T19:40:25.985378Z",
     "start_time": "2020-11-27T19:40:25.966135Z"
    }
   },
   "outputs": [
    {
     "data": {
      "text/plain": [
       "168.88"
      ]
     },
     "execution_count": 1,
     "metadata": {},
     "output_type": "execute_result"
    }
   ],
   "source": [
    "# Types of Variables\n",
    "# Numerical Variables: integers, numbers, floats. \n",
    "# Some mathematical operations can be performed on them\n",
    "var1 = 8 # integer\n",
    "var2 = 160.88 # float\n",
    "var1 + var2 # mathematical operation\n",
    "\n",
    "# In python you can perform other mathematical operations\n",
    "#on numerical variables, such as multiplication * and division /"
   ]
  },
  {
   "cell_type": "code",
   "execution_count": 2,
   "metadata": {
    "ExecuteTime": {
     "end_time": "2020-11-27T19:41:35.487095Z",
     "start_time": "2020-11-27T19:41:35.482654Z"
    }
   },
   "outputs": [],
   "source": [
    "# Text variables\n",
    "# Textual information; strings\n",
    "# You can create this👇🏽 using single or double quotes\n",
    "var3 = 'Hello,'\n",
    "var4 = \"World.\""
   ]
  },
  {
   "cell_type": "code",
   "execution_count": 3,
   "metadata": {
    "ExecuteTime": {
     "end_time": "2020-11-27T19:41:39.735041Z",
     "start_time": "2020-11-27T19:41:39.728651Z"
    }
   },
   "outputs": [
    {
     "name": "stdout",
     "output_type": "stream",
     "text": [
      "Hello, World.\n"
     ]
    }
   ],
   "source": [
    "# To display the contents of the variables\n",
    "# Use the print() function\n",
    "print(var3,var4)"
   ]
  },
  {
   "cell_type": "code",
   "execution_count": 4,
   "metadata": {
    "ExecuteTime": {
     "end_time": "2020-11-27T19:44:55.595185Z",
     "start_time": "2020-11-27T19:44:55.589342Z"
    }
   },
   "outputs": [
    {
     "name": "stdout",
     "output_type": "stream",
     "text": [
      "Text: Hello, World.!\n"
     ]
    }
   ],
   "source": [
    "# F-strings: Used for printing text with defined variables\n",
    "# It is very handy when you want to print result with additional text\n",
    "# To make it more readable and to interpret text\n",
    "print(f\"Text: {var3} {var4}!\")"
   ]
  },
  {
   "cell_type": "code",
   "execution_count": 5,
   "metadata": {
    "ExecuteTime": {
     "end_time": "2020-11-27T19:46:52.123826Z",
     "start_time": "2020-11-27T19:46:52.114612Z"
    }
   },
   "outputs": [
    {
     "data": {
      "text/plain": [
       "'Hello,World.'"
      ]
     },
     "execution_count": 5,
     "metadata": {},
     "output_type": "execute_result"
    }
   ],
   "source": [
    "# You can also perform some text related transformations with string variables\n",
    "# Such capitalizing or replacing characters\n",
    "# You can concatenate two variables with the + operator\n",
    "var3  +  var4"
   ]
  },
  {
   "cell_type": "markdown",
   "metadata": {},
   "source": [
    "**Python List**"
   ]
  },
  {
   "cell_type": "code",
   "execution_count": 6,
   "metadata": {
    "ExecuteTime": {
     "end_time": "2020-11-28T17:43:46.993909Z",
     "start_time": "2020-11-28T17:43:46.987629Z"
    }
   },
   "outputs": [
    {
     "name": "stdout",
     "output_type": "stream",
     "text": [
      "['I', 'Love', 'Data', 'Science']\n"
     ]
    }
   ],
   "source": [
    "# Another very useful variable is the list\n",
    "var5 = ['I', 'Love', 'Data', 'Science']\n",
    "print(var5)"
   ]
  },
  {
   "cell_type": "code",
   "execution_count": 7,
   "metadata": {
    "ExecuteTime": {
     "end_time": "2020-11-28T17:47:15.817514Z",
     "start_time": "2020-11-28T17:47:15.811159Z"
    }
   },
   "outputs": [
    {
     "name": "stdout",
     "output_type": "stream",
     "text": [
      "['Packt', 1519, 2020, 'Data Science']\n"
     ]
    }
   ],
   "source": [
    "# A list can have a mix of numerical and text data types\n",
    "var6 = ['Packt', 1519, 2020, 'Data Science']\n",
    "print(var6)"
   ]
  },
  {
   "cell_type": "code",
   "execution_count": 8,
   "metadata": {
    "ExecuteTime": {
     "end_time": "2020-11-28T17:49:12.397908Z",
     "start_time": "2020-11-28T17:49:12.381500Z"
    }
   },
   "outputs": [
    {
     "data": {
      "text/plain": [
       "2020"
      ]
     },
     "execution_count": 8,
     "metadata": {},
     "output_type": "execute_result"
    }
   ],
   "source": [
    "# Items in a list can be accessed by its index\n",
    "var6[2]"
   ]
  },
  {
   "cell_type": "code",
   "execution_count": 9,
   "metadata": {
    "ExecuteTime": {
     "end_time": "2020-11-28T17:51:50.203416Z",
     "start_time": "2020-11-28T17:51:50.196297Z"
    }
   },
   "outputs": [
    {
     "data": {
      "text/plain": [
       "['Packt', 1519, 2020]"
      ]
     },
     "execution_count": 9,
     "metadata": {},
     "output_type": "execute_result"
    }
   ],
   "source": [
    "# Lists can be accessed through slicing\n",
    "var6[0:3]"
   ]
  },
  {
   "cell_type": "code",
   "execution_count": 10,
   "metadata": {
    "ExecuteTime": {
     "end_time": "2020-11-28T17:54:47.969538Z",
     "start_time": "2020-11-28T17:54:47.962497Z"
    }
   },
   "outputs": [
    {
     "name": "stdout",
     "output_type": "stream",
     "text": [
      "Packt\n",
      "1519\n",
      "2020\n",
      "Data Science\n"
     ]
    }
   ],
   "source": [
    "# One can iterate through a list using a for loop\n",
    "for item in var6:\n",
    "    print(item)"
   ]
  },
  {
   "cell_type": "code",
   "execution_count": 11,
   "metadata": {},
   "outputs": [],
   "source": [
    "# You can add an item at the end of list using the .append method\n",
    "var6.append('Python')"
   ]
  },
  {
   "cell_type": "code",
   "execution_count": 12,
   "metadata": {},
   "outputs": [
    {
     "name": "stdout",
     "output_type": "stream",
     "text": [
      "['Packt', 1519, 2020, 'Data Science', 'Python']\n"
     ]
    }
   ],
   "source": [
    "print(var6)"
   ]
  },
  {
   "cell_type": "code",
   "execution_count": 13,
   "metadata": {},
   "outputs": [
    {
     "name": "stdout",
     "output_type": "stream",
     "text": [
      "['Packt', 2020, 'Data Science', 'Python']\n"
     ]
    }
   ],
   "source": [
    "# To delete an item from the list, you can use the .remove method\n",
    "var6.remove(1519)\n",
    "print(var6)"
   ]
  },
  {
   "cell_type": "code",
   "execution_count": 14,
   "metadata": {},
   "outputs": [],
   "source": [
    "# Python Dictionary\n",
    "# A dictionary contains multiple elements, like a list, but each element is organized \n",
    "#as a key-value pair. A dictionary is not indexed by numbers but by keys. So, to access \n",
    "#a specific value, you will have to call the item by its corresponding key. \n",
    "# To define a dictionary in Python, you will use curly brackets, {}, and specify the keys \n",
    "#and values separated by :, as shown here:"
   ]
  },
  {
   "cell_type": "code",
   "execution_count": 15,
   "metadata": {},
   "outputs": [
    {
     "name": "stdout",
     "output_type": "stream",
     "text": [
      "{'Topic': 'Data Science', 'Language': 'Python'}\n"
     ]
    }
   ],
   "source": [
    "var7 = {'Topic': 'Data Science', 'Language': 'Python'}\n",
    "print(var7)"
   ]
  },
  {
   "cell_type": "code",
   "execution_count": 16,
   "metadata": {},
   "outputs": [
    {
     "data": {
      "text/plain": [
       "'Python'"
      ]
     },
     "execution_count": 16,
     "metadata": {},
     "output_type": "execute_result"
    }
   ],
   "source": [
    "# To access a specific value, you need to provide the corresponding key name. \n",
    "# For instance, if you want to get the value Python, you do this:\n",
    "var7['Language']"
   ]
  },
  {
   "cell_type": "code",
   "execution_count": 17,
   "metadata": {},
   "outputs": [
    {
     "data": {
      "text/plain": [
       "dict_keys(['Topic', 'Language'])"
      ]
     },
     "execution_count": 17,
     "metadata": {},
     "output_type": "execute_result"
    }
   ],
   "source": [
    "# Python provides a method to access all the key names from a dictionary, .keys(), \n",
    "#which is used as shown in the following code snippet:\n",
    "var7.keys()"
   ]
  },
  {
   "cell_type": "code",
   "execution_count": 18,
   "metadata": {},
   "outputs": [
    {
     "data": {
      "text/plain": [
       "dict_values(['Data Science', 'Python'])"
      ]
     },
     "execution_count": 18,
     "metadata": {},
     "output_type": "execute_result"
    }
   ],
   "source": [
    "# There is also a method called .values(), which is used to access all the values of a dictionary:\n",
    "var7.values()"
   ]
  },
  {
   "cell_type": "code",
   "execution_count": 19,
   "metadata": {},
   "outputs": [
    {
     "name": "stdout",
     "output_type": "stream",
     "text": [
      "Topic\n",
      "Data Science\n",
      "Language\n",
      "Python\n"
     ]
    }
   ],
   "source": [
    "# You can iterate through all items from a dictionary using a for loop and the .items()method, \n",
    "#as shown in the following code snippet:\n",
    "for key, value in var7.items():\n",
    "    print(key)\n",
    "    print(value)"
   ]
  },
  {
   "cell_type": "code",
   "execution_count": 20,
   "metadata": {},
   "outputs": [
    {
     "name": "stdout",
     "output_type": "stream",
     "text": [
      "{'Topic': 'Data Science', 'Language': 'Python', 'Publisher': 'Packt'}\n"
     ]
    }
   ],
   "source": [
    "# You can add a new element in a dictionary by providing the key name like this:\n",
    "var7['Publisher'] = 'Packt'\n",
    "print(var7)"
   ]
  },
  {
   "cell_type": "code",
   "execution_count": 21,
   "metadata": {},
   "outputs": [],
   "source": [
    "# You can delete an item from a dictionary with the del command:\n",
    "del var7['Publisher']"
   ]
  },
  {
   "cell_type": "code",
   "execution_count": 22,
   "metadata": {},
   "outputs": [
    {
     "name": "stdout",
     "output_type": "stream",
     "text": [
      "{'Topic': 'Data Science', 'Language': 'Python'}\n"
     ]
    }
   ],
   "source": [
    "print(var7)"
   ]
  },
  {
   "cell_type": "code",
   "execution_count": 23,
   "metadata": {},
   "outputs": [],
   "source": [
    "# What is a model?\n",
    "# A machine learning model learns patterns from data and creates a mathematical function to generate predictions. \n",
    "# A supervised learning algorithm will try to find the relationship between a response variable and the given features.\n"
   ]
  },
  {
   "cell_type": "code",
   "execution_count": 24,
   "metadata": {},
   "outputs": [],
   "source": [
    "# What is a model hyperparameters\n",
    "# Hyperparameters are set by data scientists in order to define some specific conditions for the algorithm learning \n",
    "# process. These hyperparameters are different for each family of algorithms and they can, for instance, help fast-track \n",
    "#the learning process or limit the risk of overfitting."
   ]
  },
  {
   "cell_type": "code",
   "execution_count": 25,
   "metadata": {},
   "outputs": [],
   "source": [
    "# import ml module\n",
    "from sklearn.ensemble import RandomForestClassifier\n",
    "import numpy as np"
   ]
  },
  {
   "cell_type": "code",
   "execution_count": 26,
   "metadata": {},
   "outputs": [],
   "source": [
    "# Instantiate a model with specified hyperparameters:\n",
    "rf_model = RandomForestClassifier(random_state=1)"
   ]
  },
  {
   "cell_type": "code",
   "execution_count": 27,
   "metadata": {},
   "outputs": [],
   "source": [
    "# Train the model with some data.\n",
    "from sklearn.datasets import load_wine\n",
    "features, target = load_wine(return_X_y=True)"
   ]
  },
  {
   "cell_type": "code",
   "execution_count": 28,
   "metadata": {},
   "outputs": [
    {
     "data": {
      "text/plain": [
       "RandomForestClassifier(random_state=1)"
      ]
     },
     "execution_count": 28,
     "metadata": {},
     "output_type": "execute_result"
    }
   ],
   "source": [
    "# Use the .fit() method to train the model\n",
    "rf_model.fit(features,target)"
   ]
  },
  {
   "cell_type": "code",
   "execution_count": 29,
   "metadata": {},
   "outputs": [],
   "source": [
    "# Once trained, we can use the .predict() method to predict the target for one or more observations\n",
    "preds = rf_model.predict(features)"
   ]
  },
  {
   "cell_type": "code",
   "execution_count": 30,
   "metadata": {},
   "outputs": [
    {
     "data": {
      "text/plain": [
       "array([0, 0, 0, 0, 0, 0, 0, 0, 0, 0, 0, 0, 0, 0, 0, 0, 0, 0, 0, 0, 0, 0,\n",
       "       0, 0, 0, 0, 0, 0, 0, 0, 0, 0, 0, 0, 0, 0, 0, 0, 0, 0, 0, 0, 0, 0,\n",
       "       0, 0, 0, 0, 0, 0, 0, 0, 0, 0, 0, 0, 0, 0, 0, 1, 1, 1, 1, 1, 1, 1,\n",
       "       1, 1, 1, 1, 1, 1, 1, 1, 1, 1, 1, 1, 1, 1, 1, 1, 1, 1, 1, 1, 1, 1,\n",
       "       1, 1, 1, 1, 1, 1, 1, 1, 1, 1, 1, 1, 1, 1, 1, 1, 1, 1, 1, 1, 1, 1,\n",
       "       1, 1, 1, 1, 1, 1, 1, 1, 1, 1, 1, 1, 1, 1, 1, 1, 1, 1, 1, 1, 2, 2,\n",
       "       2, 2, 2, 2, 2, 2, 2, 2, 2, 2, 2, 2, 2, 2, 2, 2, 2, 2, 2, 2, 2, 2,\n",
       "       2, 2, 2, 2, 2, 2, 2, 2, 2, 2, 2, 2, 2, 2, 2, 2, 2, 2, 2, 2, 2, 2,\n",
       "       2, 2])"
      ]
     },
     "execution_count": 30,
     "metadata": {},
     "output_type": "execute_result"
    }
   ],
   "source": [
    "preds"
   ]
  },
  {
   "cell_type": "code",
   "execution_count": 31,
   "metadata": {},
   "outputs": [
    {
     "data": {
      "text/plain": [
       "1.0"
      ]
     },
     "execution_count": 31,
     "metadata": {},
     "output_type": "execute_result"
    }
   ],
   "source": [
    "#  Assess the model's performance by comparing its predictions to the actual values of the target variable\n",
    "from sklearn.metrics import accuracy_score\n",
    "accuracy_score(target, preds)"
   ]
  },
  {
   "cell_type": "code",
   "execution_count": 32,
   "metadata": {},
   "outputs": [],
   "source": [
    "# Regression\n",
    "\n",
    "# Regression analysis is about finding a function, under a given set of assumptions, \n",
    "#that best describes the relationship between the dependent variable (Y in this case) \n",
    "#and the independent variable (X in this case). "
   ]
  },
  {
   "cell_type": "code",
   "execution_count": null,
   "metadata": {},
   "outputs": [],
   "source": [
    "# Conducting Regression Analysis Using Python\n",
    "# Load the necessary Python modules \n",
    "%matplotlib inline # display the graphical output of the code in the notebook environment.\n",
    "import matplotlib as mpl # library for creating static, animated, and interactive visualizations in Python\n",
    "import seaborn as sns # library for making statistical graphics in Python\n",
    "import matplotlib.pyplot as plt # state-based interface to matplotlib\n",
    "import statsmodels.formula.api as smf # Create a Model from a formula and dataframe\n",
    "import statsmodels.graphics.api as smg\n",
    "import pandas as pd\n",
    "import numpy as np\n",
    "import patsy from statsmodels.graphics.correlation \n",
    "import plot_corr from sklearn.model_selection \n",
    "import train_test_split\n",
    "plt.style.use('seaborn')"
   ]
  }
 ],
 "metadata": {
  "kernelspec": {
   "display_name": "Python 3",
   "language": "python",
   "name": "python3"
  },
  "language_info": {
   "codemirror_mode": {
    "name": "ipython",
    "version": 3
   },
   "file_extension": ".py",
   "mimetype": "text/x-python",
   "name": "python",
   "nbconvert_exporter": "python",
   "pygments_lexer": "ipython3",
   "version": "3.8.5"
  }
 },
 "nbformat": 4,
 "nbformat_minor": 4
}
