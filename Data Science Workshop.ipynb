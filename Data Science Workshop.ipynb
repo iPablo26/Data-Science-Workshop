{
 "cells": [
  {
   "cell_type": "markdown",
   "metadata": {},
   "source": [
    "### Overview of Python"
   ]
  },
  {
   "cell_type": "code",
   "execution_count": 11,
   "metadata": {
    "ExecuteTime": {
     "end_time": "2020-11-27T19:40:25.985378Z",
     "start_time": "2020-11-27T19:40:25.966135Z"
    }
   },
   "outputs": [
    {
     "data": {
      "text/plain": [
       "168.88"
      ]
     },
     "execution_count": 11,
     "metadata": {},
     "output_type": "execute_result"
    }
   ],
   "source": [
    "# Types of Variables\n",
    "# Numerical Variables: integers, numbers, floats. \n",
    "# Some mathematical operations can be performed on them\n",
    "var1 = 8 # integer\n",
    "var2 = 160.88 # float\n",
    "var1 + var2 # mathematical operation\n",
    "\n",
    "# In python you can perform other mathematical operations\n",
    "#on numerical variables, such as multiplication * and division /"
   ]
  },
  {
   "cell_type": "code",
   "execution_count": 12,
   "metadata": {
    "ExecuteTime": {
     "end_time": "2020-11-27T19:41:35.487095Z",
     "start_time": "2020-11-27T19:41:35.482654Z"
    }
   },
   "outputs": [],
   "source": [
    "# Text variables\n",
    "# Textual information; strings\n",
    "# You can create this👇🏽 using single or double quotes\n",
    "var3 = 'Hello,'\n",
    "var4 = \"World.\""
   ]
  },
  {
   "cell_type": "code",
   "execution_count": 13,
   "metadata": {
    "ExecuteTime": {
     "end_time": "2020-11-27T19:41:39.735041Z",
     "start_time": "2020-11-27T19:41:39.728651Z"
    }
   },
   "outputs": [
    {
     "name": "stdout",
     "output_type": "stream",
     "text": [
      "Hello, World.\n"
     ]
    }
   ],
   "source": [
    "# To display the contents of the variables\n",
    "# Use the print() function\n",
    "print(var3,var4)"
   ]
  },
  {
   "cell_type": "code",
   "execution_count": 14,
   "metadata": {
    "ExecuteTime": {
     "end_time": "2020-11-27T19:44:55.595185Z",
     "start_time": "2020-11-27T19:44:55.589342Z"
    }
   },
   "outputs": [
    {
     "name": "stdout",
     "output_type": "stream",
     "text": [
      "Text: Hello, World.!\n"
     ]
    }
   ],
   "source": [
    "# F-strings: Used for printing text with defined variables\n",
    "# It is very handy when you want to print result with additional text\n",
    "# To make it more readable and to interpret text\n",
    "print(f\"Text: {var3} {var4}!\")"
   ]
  },
  {
   "cell_type": "code",
   "execution_count": 15,
   "metadata": {
    "ExecuteTime": {
     "end_time": "2020-11-27T19:46:52.123826Z",
     "start_time": "2020-11-27T19:46:52.114612Z"
    }
   },
   "outputs": [
    {
     "data": {
      "text/plain": [
       "'Hello,World.'"
      ]
     },
     "execution_count": 15,
     "metadata": {},
     "output_type": "execute_result"
    }
   ],
   "source": [
    "# You can also perform some text related transformations with string variables\n",
    "# Such capitalizing or replacing characters\n",
    "# You can concatenate two variables with the + operator\n",
    "var3  +  var4"
   ]
  },
  {
   "cell_type": "markdown",
   "metadata": {},
   "source": [
    "**Python List**"
   ]
  },
  {
   "cell_type": "code",
   "execution_count": 16,
   "metadata": {
    "ExecuteTime": {
     "end_time": "2020-11-28T17:43:46.993909Z",
     "start_time": "2020-11-28T17:43:46.987629Z"
    }
   },
   "outputs": [
    {
     "name": "stdout",
     "output_type": "stream",
     "text": [
      "['I', 'Love', 'Data', 'Science']\n"
     ]
    }
   ],
   "source": [
    "# Another very useful variable is the list\n",
    "var5 = ['I', 'Love', 'Data', 'Science']\n",
    "print(var5)"
   ]
  },
  {
   "cell_type": "code",
   "execution_count": 17,
   "metadata": {
    "ExecuteTime": {
     "end_time": "2020-11-28T17:47:15.817514Z",
     "start_time": "2020-11-28T17:47:15.811159Z"
    }
   },
   "outputs": [
    {
     "name": "stdout",
     "output_type": "stream",
     "text": [
      "['Packt', 1519, 2020, 'Data Science']\n"
     ]
    }
   ],
   "source": [
    "# A list can have a mix of numerical and text data types\n",
    "var6 = ['Packt', 1519, 2020, 'Data Science']\n",
    "print(var6)"
   ]
  },
  {
   "cell_type": "code",
   "execution_count": 18,
   "metadata": {
    "ExecuteTime": {
     "end_time": "2020-11-28T17:49:12.397908Z",
     "start_time": "2020-11-28T17:49:12.381500Z"
    }
   },
   "outputs": [
    {
     "data": {
      "text/plain": [
       "2020"
      ]
     },
     "execution_count": 18,
     "metadata": {},
     "output_type": "execute_result"
    }
   ],
   "source": [
    "# Items in a list can be accessed by its index\n",
    "var6[2]"
   ]
  },
  {
   "cell_type": "code",
   "execution_count": 19,
   "metadata": {
    "ExecuteTime": {
     "end_time": "2020-11-28T17:51:50.203416Z",
     "start_time": "2020-11-28T17:51:50.196297Z"
    }
   },
   "outputs": [
    {
     "data": {
      "text/plain": [
       "['Packt', 1519, 2020]"
      ]
     },
     "execution_count": 19,
     "metadata": {},
     "output_type": "execute_result"
    }
   ],
   "source": [
    "# Lists can be accessed through slicing\n",
    "var6[0:3]"
   ]
  },
  {
   "cell_type": "code",
   "execution_count": 20,
   "metadata": {
    "ExecuteTime": {
     "end_time": "2020-11-28T17:54:47.969538Z",
     "start_time": "2020-11-28T17:54:47.962497Z"
    }
   },
   "outputs": [
    {
     "name": "stdout",
     "output_type": "stream",
     "text": [
      "Packt\n",
      "1519\n",
      "2020\n",
      "Data Science\n"
     ]
    }
   ],
   "source": [
    "# One can iterate through a list using a for loop\n",
    "for item in var6:\n",
    "    print(item)"
   ]
  },
  {
   "cell_type": "code",
   "execution_count": 21,
   "metadata": {},
   "outputs": [],
   "source": [
    "# You can add an item at the end of list using the .append method\n",
    "var6.append('Python')"
   ]
  },
  {
   "cell_type": "code",
   "execution_count": 22,
   "metadata": {},
   "outputs": [
    {
     "name": "stdout",
     "output_type": "stream",
     "text": [
      "['Packt', 1519, 2020, 'Data Science', 'Python']\n"
     ]
    }
   ],
   "source": [
    "print(var6)"
   ]
  },
  {
   "cell_type": "code",
   "execution_count": 23,
   "metadata": {},
   "outputs": [
    {
     "name": "stdout",
     "output_type": "stream",
     "text": [
      "['Packt', 2020, 'Data Science', 'Python']\n"
     ]
    }
   ],
   "source": [
    "# To delete an item from the list, you can use the .remove method\n",
    "var6.remove(1519)\n",
    "print(var6)"
   ]
  },
  {
   "cell_type": "code",
   "execution_count": 24,
   "metadata": {},
   "outputs": [],
   "source": [
    "# Python Dictionary\n",
    "# A dictionary contains multiple elements, like a list, but each element is organized \n",
    "#as a key-value pair. A dictionary is not indexed by numbers but by keys. So, to access \n",
    "#a specific value, you will have to call the item by its corresponding key. \n",
    "# To define a dictionary in Python, you will use curly brackets, {}, and specify the keys \n",
    "#and values separated by :, as shown here:"
   ]
  },
  {
   "cell_type": "code",
   "execution_count": 25,
   "metadata": {},
   "outputs": [
    {
     "name": "stdout",
     "output_type": "stream",
     "text": [
      "{'Topic': 'Data Science', 'Language': 'Python'}\n"
     ]
    }
   ],
   "source": [
    "var7 = {'Topic': 'Data Science', 'Language': 'Python'}\n",
    "print(var7)"
   ]
  },
  {
   "cell_type": "code",
   "execution_count": 26,
   "metadata": {},
   "outputs": [
    {
     "data": {
      "text/plain": [
       "'Python'"
      ]
     },
     "execution_count": 26,
     "metadata": {},
     "output_type": "execute_result"
    }
   ],
   "source": [
    "# To access a specific value, you need to provide the corresponding key name. \n",
    "# For instance, if you want to get the value Python, you do this:\n",
    "var7['Language']"
   ]
  },
  {
   "cell_type": "code",
   "execution_count": 27,
   "metadata": {},
   "outputs": [
    {
     "data": {
      "text/plain": [
       "dict_keys(['Topic', 'Language'])"
      ]
     },
     "execution_count": 27,
     "metadata": {},
     "output_type": "execute_result"
    }
   ],
   "source": [
    "# Python provides a method to access all the key names from a dictionary, .keys(), \n",
    "#which is used as shown in the following code snippet:\n",
    "var7.keys()"
   ]
  },
  {
   "cell_type": "code",
   "execution_count": 28,
   "metadata": {},
   "outputs": [
    {
     "data": {
      "text/plain": [
       "dict_values(['Data Science', 'Python'])"
      ]
     },
     "execution_count": 28,
     "metadata": {},
     "output_type": "execute_result"
    }
   ],
   "source": [
    "# There is also a method called .values(), which is used to access all the values of a dictionary:\n",
    "var7.values()"
   ]
  },
  {
   "cell_type": "code",
   "execution_count": 29,
   "metadata": {},
   "outputs": [
    {
     "name": "stdout",
     "output_type": "stream",
     "text": [
      "Topic\n",
      "Data Science\n",
      "Language\n",
      "Python\n"
     ]
    }
   ],
   "source": [
    "# You can iterate through all items from a dictionary using a for loop and the .items()method, \n",
    "#as shown in the following code snippet:\n",
    "for key, value in var7.items():\n",
    "    print(key)\n",
    "    print(value)"
   ]
  },
  {
   "cell_type": "code",
   "execution_count": 30,
   "metadata": {},
   "outputs": [
    {
     "name": "stdout",
     "output_type": "stream",
     "text": [
      "{'Topic': 'Data Science', 'Language': 'Python', 'Publisher': 'Packt'}\n"
     ]
    }
   ],
   "source": [
    "# You can add a new element in a dictionary by providing the key name like this:\n",
    "var7['Publisher'] = 'Packt'\n",
    "print(var7)"
   ]
  },
  {
   "cell_type": "code",
   "execution_count": 31,
   "metadata": {},
   "outputs": [],
   "source": [
    "# You can delete an item from a dictionary with the del command:\n",
    "del var7['Publisher']"
   ]
  },
  {
   "cell_type": "code",
   "execution_count": 32,
   "metadata": {},
   "outputs": [
    {
     "name": "stdout",
     "output_type": "stream",
     "text": [
      "{'Topic': 'Data Science', 'Language': 'Python'}\n"
     ]
    }
   ],
   "source": [
    "print(var7)"
   ]
  },
  {
   "cell_type": "code",
   "execution_count": 33,
   "metadata": {},
   "outputs": [],
   "source": [
    "# What is a model?\n",
    "# A machine learning model learns patterns from data and creates a mathematical function to generate predictions. \n",
    "# A supervised learning algorithm will try to find the relationship between a response variable and the given features.\n"
   ]
  },
  {
   "cell_type": "code",
   "execution_count": 34,
   "metadata": {},
   "outputs": [],
   "source": [
    "# What is a model hyperparameters\n",
    "# Hyperparameters are set by data scientists in order to define some specific conditions for the algorithm learning \n",
    "# process. These hyperparameters are different for each family of algorithms and they can, for instance, help fast-track \n",
    "#the learning process or limit the risk of overfitting."
   ]
  },
  {
   "cell_type": "code",
   "execution_count": 35,
   "metadata": {},
   "outputs": [],
   "source": [
    "# import ml module\n",
    "from sklearn.ensemble import RandomForestClassifier\n",
    "import numpy as np"
   ]
  },
  {
   "cell_type": "code",
   "execution_count": 36,
   "metadata": {},
   "outputs": [],
   "source": [
    "# Instantiate a model with specified hyperparameters:\n",
    "rf_model = RandomForestClassifier(random_state=1)"
   ]
  },
  {
   "cell_type": "code",
   "execution_count": 37,
   "metadata": {},
   "outputs": [],
   "source": [
    "# Train the model with some data.\n",
    "from sklearn.datasets import load_wine\n",
    "features, target = load_wine(return_X_y=True)"
   ]
  },
  {
   "cell_type": "code",
   "execution_count": 38,
   "metadata": {},
   "outputs": [
    {
     "data": {
      "text/plain": [
       "RandomForestClassifier(random_state=1)"
      ]
     },
     "execution_count": 38,
     "metadata": {},
     "output_type": "execute_result"
    }
   ],
   "source": [
    "# Use the .fit() method to train the model\n",
    "rf_model.fit(features,target)"
   ]
  },
  {
   "cell_type": "code",
   "execution_count": 39,
   "metadata": {},
   "outputs": [],
   "source": [
    "# Once trained, we can use the .predict() method to predict the target for one or more observations\n",
    "preds = rf_model.predict(features)"
   ]
  },
  {
   "cell_type": "code",
   "execution_count": 40,
   "metadata": {},
   "outputs": [
    {
     "data": {
      "text/plain": [
       "array([0, 0, 0, 0, 0, 0, 0, 0, 0, 0, 0, 0, 0, 0, 0, 0, 0, 0, 0, 0, 0, 0,\n",
       "       0, 0, 0, 0, 0, 0, 0, 0, 0, 0, 0, 0, 0, 0, 0, 0, 0, 0, 0, 0, 0, 0,\n",
       "       0, 0, 0, 0, 0, 0, 0, 0, 0, 0, 0, 0, 0, 0, 0, 1, 1, 1, 1, 1, 1, 1,\n",
       "       1, 1, 1, 1, 1, 1, 1, 1, 1, 1, 1, 1, 1, 1, 1, 1, 1, 1, 1, 1, 1, 1,\n",
       "       1, 1, 1, 1, 1, 1, 1, 1, 1, 1, 1, 1, 1, 1, 1, 1, 1, 1, 1, 1, 1, 1,\n",
       "       1, 1, 1, 1, 1, 1, 1, 1, 1, 1, 1, 1, 1, 1, 1, 1, 1, 1, 1, 1, 2, 2,\n",
       "       2, 2, 2, 2, 2, 2, 2, 2, 2, 2, 2, 2, 2, 2, 2, 2, 2, 2, 2, 2, 2, 2,\n",
       "       2, 2, 2, 2, 2, 2, 2, 2, 2, 2, 2, 2, 2, 2, 2, 2, 2, 2, 2, 2, 2, 2,\n",
       "       2, 2])"
      ]
     },
     "execution_count": 40,
     "metadata": {},
     "output_type": "execute_result"
    }
   ],
   "source": [
    "preds"
   ]
  },
  {
   "cell_type": "code",
   "execution_count": 41,
   "metadata": {},
   "outputs": [
    {
     "data": {
      "text/plain": [
       "1.0"
      ]
     },
     "execution_count": 41,
     "metadata": {},
     "output_type": "execute_result"
    }
   ],
   "source": [
    "#  Assess the model's performance by comparing its predictions to the actual values of the target variable\n",
    "from sklearn.metrics import accuracy_score\n",
    "accuracy_score(target, preds)"
   ]
  },
  {
   "cell_type": "code",
   "execution_count": 42,
   "metadata": {},
   "outputs": [],
   "source": [
    "# Regression\n",
    "\n",
    "# Regression analysis is about finding a function, under a given set of assumptions, \n",
    "#that best describes the relationship between the dependent variable (Y in this case) \n",
    "#and the independent variable (X in this case). "
   ]
  },
  {
   "cell_type": "code",
   "execution_count": 43,
   "metadata": {},
   "outputs": [],
   "source": [
    "# Conducting Regression Analysis Using Python\n",
    "# Load the necessary Python modules \n",
    "%matplotlib inline \n",
    "import matplotlib as mpl # library for creating static, animated, and interactive visualizations in Python\n",
    "import seaborn as sns # library for making statistical graphics in Python\n",
    "import matplotlib.pyplot as plt # state-based interface to matplotlib\n",
    "import statsmodels.formula.api as smf # Create a Model from a formula and dataframe\n",
    "import statsmodels.graphics.api as smg # Interaction plot for factor level statistics.\n",
    "import pandas as pd # library providing high-performance, easy-to-use data structures and data analysis tools\n",
    "import numpy as np # library for scientific computing in Python\n",
    "import patsy # library for describing statistical models\n",
    "from statsmodels.graphics.correlation import plot_corr # Plot correlation of many variables in a tight color grid\n",
    "from sklearn.model_selection import train_test_split # Split arrays or matrices into random train and test subsets\n",
    "plt.style.use('seaborn')"
   ]
  },
  {
   "cell_type": "code",
   "execution_count": 44,
   "metadata": {},
   "outputs": [
    {
     "data": {
      "text/html": [
       "<div>\n",
       "<style scoped>\n",
       "    .dataframe tbody tr th:only-of-type {\n",
       "        vertical-align: middle;\n",
       "    }\n",
       "\n",
       "    .dataframe tbody tr th {\n",
       "        vertical-align: top;\n",
       "    }\n",
       "\n",
       "    .dataframe thead th {\n",
       "        text-align: right;\n",
       "    }\n",
       "</style>\n",
       "<table border=\"1\" class=\"dataframe\">\n",
       "  <thead>\n",
       "    <tr style=\"text-align: right;\">\n",
       "      <th></th>\n",
       "      <th>CRIM</th>\n",
       "      <th>ZN</th>\n",
       "      <th>INDUS</th>\n",
       "      <th>CHAS</th>\n",
       "      <th>NOX</th>\n",
       "      <th>RM</th>\n",
       "      <th>AGE</th>\n",
       "      <th>DIS</th>\n",
       "      <th>RAD</th>\n",
       "      <th>TAX</th>\n",
       "      <th>PTRATIO</th>\n",
       "      <th>LSTAT</th>\n",
       "      <th>MEDV</th>\n",
       "    </tr>\n",
       "  </thead>\n",
       "  <tbody>\n",
       "    <tr>\n",
       "      <th>0</th>\n",
       "      <td>0.00632</td>\n",
       "      <td>18.0</td>\n",
       "      <td>2.31</td>\n",
       "      <td>0</td>\n",
       "      <td>0.538</td>\n",
       "      <td>6.575</td>\n",
       "      <td>65.2</td>\n",
       "      <td>4.0900</td>\n",
       "      <td>1</td>\n",
       "      <td>296</td>\n",
       "      <td>15.3</td>\n",
       "      <td>4.98</td>\n",
       "      <td>24.0</td>\n",
       "    </tr>\n",
       "    <tr>\n",
       "      <th>1</th>\n",
       "      <td>0.02731</td>\n",
       "      <td>0.0</td>\n",
       "      <td>7.07</td>\n",
       "      <td>0</td>\n",
       "      <td>0.469</td>\n",
       "      <td>6.421</td>\n",
       "      <td>78.9</td>\n",
       "      <td>4.9671</td>\n",
       "      <td>2</td>\n",
       "      <td>242</td>\n",
       "      <td>17.8</td>\n",
       "      <td>9.14</td>\n",
       "      <td>21.6</td>\n",
       "    </tr>\n",
       "    <tr>\n",
       "      <th>2</th>\n",
       "      <td>0.02729</td>\n",
       "      <td>0.0</td>\n",
       "      <td>7.07</td>\n",
       "      <td>0</td>\n",
       "      <td>0.469</td>\n",
       "      <td>7.185</td>\n",
       "      <td>61.1</td>\n",
       "      <td>4.9671</td>\n",
       "      <td>2</td>\n",
       "      <td>242</td>\n",
       "      <td>17.8</td>\n",
       "      <td>4.03</td>\n",
       "      <td>34.7</td>\n",
       "    </tr>\n",
       "    <tr>\n",
       "      <th>3</th>\n",
       "      <td>0.03237</td>\n",
       "      <td>0.0</td>\n",
       "      <td>2.18</td>\n",
       "      <td>0</td>\n",
       "      <td>0.458</td>\n",
       "      <td>6.998</td>\n",
       "      <td>45.8</td>\n",
       "      <td>6.0622</td>\n",
       "      <td>3</td>\n",
       "      <td>222</td>\n",
       "      <td>18.7</td>\n",
       "      <td>2.94</td>\n",
       "      <td>33.4</td>\n",
       "    </tr>\n",
       "    <tr>\n",
       "      <th>4</th>\n",
       "      <td>0.06905</td>\n",
       "      <td>0.0</td>\n",
       "      <td>2.18</td>\n",
       "      <td>0</td>\n",
       "      <td>0.458</td>\n",
       "      <td>7.147</td>\n",
       "      <td>54.2</td>\n",
       "      <td>6.0622</td>\n",
       "      <td>3</td>\n",
       "      <td>222</td>\n",
       "      <td>18.7</td>\n",
       "      <td>5.33</td>\n",
       "      <td>36.2</td>\n",
       "    </tr>\n",
       "  </tbody>\n",
       "</table>\n",
       "</div>"
      ],
      "text/plain": [
       "      CRIM   ZN   INDUS   CHAS    NOX     RM   AGE     DIS  RAD  TAX  PTRATIO  \\\n",
       "0  0.00632  18.0    2.31     0  0.538  6.575  65.2  4.0900    1  296     15.3   \n",
       "1  0.02731   0.0    7.07     0  0.469  6.421  78.9  4.9671    2  242     17.8   \n",
       "2  0.02729   0.0    7.07     0  0.469  7.185  61.1  4.9671    2  242     17.8   \n",
       "3  0.03237   0.0    2.18     0  0.458  6.998  45.8  6.0622    3  222     18.7   \n",
       "4  0.06905   0.0    2.18     0  0.458  7.147  54.2  6.0622    3  222     18.7   \n",
       "\n",
       "   LSTAT  MEDV  \n",
       "0   4.98  24.0  \n",
       "1   9.14  21.6  \n",
       "2   4.03  34.7  \n",
       "3   2.94  33.4  \n",
       "4   5.33  36.2  "
      ]
     },
     "execution_count": 44,
     "metadata": {},
     "output_type": "execute_result"
    }
   ],
   "source": [
    "# Load the dataset for Regression\n",
    "# Two Boston Housing Dataset from Datacentral and Packt for Data Science Workshop\n",
    "boston_packt = pd.read_csv('Boston_packt.csv')\n",
    "boston_packt.head()"
   ]
  },
  {
   "cell_type": "code",
   "execution_count": 45,
   "metadata": {},
   "outputs": [
    {
     "data": {
      "text/plain": [
       "CRIM       0\n",
       " ZN        0\n",
       "INDUS      0\n",
       "CHAS       0\n",
       "NOX        0\n",
       "RM         0\n",
       "AGE        0\n",
       "DIS        0\n",
       "RAD        0\n",
       "TAX        0\n",
       "PTRATIO    0\n",
       "LSTAT      0\n",
       "MEDV       0\n",
       "dtype: int64"
      ]
     },
     "execution_count": 45,
     "metadata": {},
     "output_type": "execute_result"
    }
   ],
   "source": [
    "# Check for missing values\n",
    "boston_packt.isnull().sum()"
   ]
  },
  {
   "cell_type": "code",
   "execution_count": 46,
   "metadata": {},
   "outputs": [
    {
     "data": {
      "text/plain": [
       "0"
      ]
     },
     "execution_count": 46,
     "metadata": {},
     "output_type": "execute_result"
    }
   ],
   "source": [
    "# Check for duplicate values\n",
    "boston_packt.duplicated().sum()"
   ]
  },
  {
   "cell_type": "code",
   "execution_count": 47,
   "metadata": {},
   "outputs": [
    {
     "data": {
      "text/plain": [
       "['CRIM',\n",
       " ' ZN ',\n",
       " 'INDUS ',\n",
       " 'CHAS',\n",
       " 'NOX',\n",
       " 'RM',\n",
       " 'AGE',\n",
       " 'DIS',\n",
       " 'RAD',\n",
       " 'TAX',\n",
       " 'PTRATIO',\n",
       " 'LSTAT',\n",
       " 'MEDV']"
      ]
     },
     "execution_count": 47,
     "metadata": {},
     "output_type": "execute_result"
    }
   ],
   "source": [
    "# List the column names of the dataframe\n",
    "list(boston_packt.columns)"
   ]
  },
  {
   "cell_type": "code",
   "execution_count": 48,
   "metadata": {},
   "outputs": [],
   "source": [
    "# Rename the DataFrame columns so that they are meaningful.\n",
    "renamedboston_packt = boston_packt.rename(columns= {'CRIM':'crimeRatePerCapita', \n",
    "                                                    ' ZN ':'landOver25K_sqft', \n",
    "                                                    'INDUS ':'non-retailLandProptn', \n",
    "                                                    'CHAS':'riverDummy', \n",
    "                                                    'NOX':'nitrixOxide_pp10m', \n",
    "                                                    'RM':'AvgNo.RoomsPerDwelling', \n",
    "                                                    'AGE':'ProptnOwnerOccupied', \n",
    "                                                    'DIS':'weightedDist', \n",
    "                                                    'RAD':'radialHighwaysAccess', \n",
    "                                                    'TAX':'propTaxRate_per10K', \n",
    "                                                    'PTRATIO':'pupilTeacherRatio', \n",
    "                                                    'LSTAT':'pctLowerStatus', \n",
    "                                                    'MEDV':'medianValue_Ks'})"
   ]
  },
  {
   "cell_type": "code",
   "execution_count": 49,
   "metadata": {},
   "outputs": [
    {
     "data": {
      "text/html": [
       "<div>\n",
       "<style scoped>\n",
       "    .dataframe tbody tr th:only-of-type {\n",
       "        vertical-align: middle;\n",
       "    }\n",
       "\n",
       "    .dataframe tbody tr th {\n",
       "        vertical-align: top;\n",
       "    }\n",
       "\n",
       "    .dataframe thead th {\n",
       "        text-align: right;\n",
       "    }\n",
       "</style>\n",
       "<table border=\"1\" class=\"dataframe\">\n",
       "  <thead>\n",
       "    <tr style=\"text-align: right;\">\n",
       "      <th></th>\n",
       "      <th>crimeRatePerCapita</th>\n",
       "      <th>landOver25K_sqft</th>\n",
       "      <th>non-retailLandProptn</th>\n",
       "      <th>riverDummy</th>\n",
       "      <th>nitrixOxide_pp10m</th>\n",
       "      <th>AvgNo.RoomsPerDwelling</th>\n",
       "      <th>ProptnOwnerOccupied</th>\n",
       "      <th>weightedDist</th>\n",
       "      <th>radialHighwaysAccess</th>\n",
       "      <th>propTaxRate_per10K</th>\n",
       "      <th>pupilTeacherRatio</th>\n",
       "      <th>pctLowerStatus</th>\n",
       "      <th>medianValue_Ks</th>\n",
       "    </tr>\n",
       "  </thead>\n",
       "  <tbody>\n",
       "    <tr>\n",
       "      <th>0</th>\n",
       "      <td>0.00632</td>\n",
       "      <td>18.0</td>\n",
       "      <td>2.31</td>\n",
       "      <td>0</td>\n",
       "      <td>0.538</td>\n",
       "      <td>6.575</td>\n",
       "      <td>65.2</td>\n",
       "      <td>4.0900</td>\n",
       "      <td>1</td>\n",
       "      <td>296</td>\n",
       "      <td>15.3</td>\n",
       "      <td>4.98</td>\n",
       "      <td>24.0</td>\n",
       "    </tr>\n",
       "    <tr>\n",
       "      <th>1</th>\n",
       "      <td>0.02731</td>\n",
       "      <td>0.0</td>\n",
       "      <td>7.07</td>\n",
       "      <td>0</td>\n",
       "      <td>0.469</td>\n",
       "      <td>6.421</td>\n",
       "      <td>78.9</td>\n",
       "      <td>4.9671</td>\n",
       "      <td>2</td>\n",
       "      <td>242</td>\n",
       "      <td>17.8</td>\n",
       "      <td>9.14</td>\n",
       "      <td>21.6</td>\n",
       "    </tr>\n",
       "    <tr>\n",
       "      <th>2</th>\n",
       "      <td>0.02729</td>\n",
       "      <td>0.0</td>\n",
       "      <td>7.07</td>\n",
       "      <td>0</td>\n",
       "      <td>0.469</td>\n",
       "      <td>7.185</td>\n",
       "      <td>61.1</td>\n",
       "      <td>4.9671</td>\n",
       "      <td>2</td>\n",
       "      <td>242</td>\n",
       "      <td>17.8</td>\n",
       "      <td>4.03</td>\n",
       "      <td>34.7</td>\n",
       "    </tr>\n",
       "    <tr>\n",
       "      <th>3</th>\n",
       "      <td>0.03237</td>\n",
       "      <td>0.0</td>\n",
       "      <td>2.18</td>\n",
       "      <td>0</td>\n",
       "      <td>0.458</td>\n",
       "      <td>6.998</td>\n",
       "      <td>45.8</td>\n",
       "      <td>6.0622</td>\n",
       "      <td>3</td>\n",
       "      <td>222</td>\n",
       "      <td>18.7</td>\n",
       "      <td>2.94</td>\n",
       "      <td>33.4</td>\n",
       "    </tr>\n",
       "    <tr>\n",
       "      <th>4</th>\n",
       "      <td>0.06905</td>\n",
       "      <td>0.0</td>\n",
       "      <td>2.18</td>\n",
       "      <td>0</td>\n",
       "      <td>0.458</td>\n",
       "      <td>7.147</td>\n",
       "      <td>54.2</td>\n",
       "      <td>6.0622</td>\n",
       "      <td>3</td>\n",
       "      <td>222</td>\n",
       "      <td>18.7</td>\n",
       "      <td>5.33</td>\n",
       "      <td>36.2</td>\n",
       "    </tr>\n",
       "  </tbody>\n",
       "</table>\n",
       "</div>"
      ],
      "text/plain": [
       "   crimeRatePerCapita  landOver25K_sqft  non-retailLandProptn  riverDummy  \\\n",
       "0             0.00632              18.0                  2.31           0   \n",
       "1             0.02731               0.0                  7.07           0   \n",
       "2             0.02729               0.0                  7.07           0   \n",
       "3             0.03237               0.0                  2.18           0   \n",
       "4             0.06905               0.0                  2.18           0   \n",
       "\n",
       "   nitrixOxide_pp10m  AvgNo.RoomsPerDwelling  ProptnOwnerOccupied  \\\n",
       "0              0.538                   6.575                 65.2   \n",
       "1              0.469                   6.421                 78.9   \n",
       "2              0.469                   7.185                 61.1   \n",
       "3              0.458                   6.998                 45.8   \n",
       "4              0.458                   7.147                 54.2   \n",
       "\n",
       "   weightedDist  radialHighwaysAccess  propTaxRate_per10K  pupilTeacherRatio  \\\n",
       "0        4.0900                     1                 296               15.3   \n",
       "1        4.9671                     2                 242               17.8   \n",
       "2        4.9671                     2                 242               17.8   \n",
       "3        6.0622                     3                 222               18.7   \n",
       "4        6.0622                     3                 222               18.7   \n",
       "\n",
       "   pctLowerStatus  medianValue_Ks  \n",
       "0            4.98            24.0  \n",
       "1            9.14            21.6  \n",
       "2            4.03            34.7  \n",
       "3            2.94            33.4  \n",
       "4            5.33            36.2  "
      ]
     },
     "execution_count": 49,
     "metadata": {},
     "output_type": "execute_result"
    }
   ],
   "source": [
    "renamedboston_packt.head()"
   ]
  },
  {
   "cell_type": "code",
   "execution_count": 50,
   "metadata": {},
   "outputs": [
    {
     "name": "stdout",
     "output_type": "stream",
     "text": [
      "<class 'pandas.core.frame.DataFrame'>\n",
      "RangeIndex: 506 entries, 0 to 505\n",
      "Data columns (total 13 columns):\n",
      " #   Column                  Non-Null Count  Dtype  \n",
      "---  ------                  --------------  -----  \n",
      " 0   crimeRatePerCapita      506 non-null    float64\n",
      " 1   landOver25K_sqft        506 non-null    float64\n",
      " 2   non-retailLandProptn    506 non-null    float64\n",
      " 3   riverDummy              506 non-null    int64  \n",
      " 4   nitrixOxide_pp10m       506 non-null    float64\n",
      " 5   AvgNo.RoomsPerDwelling  506 non-null    float64\n",
      " 6   ProptnOwnerOccupied     506 non-null    float64\n",
      " 7   weightedDist            506 non-null    float64\n",
      " 8   radialHighwaysAccess    506 non-null    int64  \n",
      " 9   propTaxRate_per10K      506 non-null    int64  \n",
      " 10  pupilTeacherRatio       506 non-null    float64\n",
      " 11  pctLowerStatus          506 non-null    float64\n",
      " 12  medianValue_Ks          506 non-null    float64\n",
      "dtypes: float64(10), int64(3)\n",
      "memory usage: 51.5 KB\n"
     ]
    }
   ],
   "source": [
    "# Inspect the data types of the columns in your DataFrame\n",
    "renamedboston_packt.info()"
   ]
  },
  {
   "cell_type": "code",
   "execution_count": 51,
   "metadata": {},
   "outputs": [
    {
     "data": {
      "text/html": [
       "<div>\n",
       "<style scoped>\n",
       "    .dataframe tbody tr th:only-of-type {\n",
       "        vertical-align: middle;\n",
       "    }\n",
       "\n",
       "    .dataframe tbody tr th {\n",
       "        vertical-align: top;\n",
       "    }\n",
       "\n",
       "    .dataframe thead th {\n",
       "        text-align: right;\n",
       "    }\n",
       "</style>\n",
       "<table border=\"1\" class=\"dataframe\">\n",
       "  <thead>\n",
       "    <tr style=\"text-align: right;\">\n",
       "      <th></th>\n",
       "      <th>count</th>\n",
       "      <th>mean</th>\n",
       "      <th>std</th>\n",
       "      <th>min</th>\n",
       "      <th>25%</th>\n",
       "      <th>50%</th>\n",
       "      <th>75%</th>\n",
       "      <th>max</th>\n",
       "    </tr>\n",
       "  </thead>\n",
       "  <tbody>\n",
       "    <tr>\n",
       "      <th>crimeRatePerCapita</th>\n",
       "      <td>506.0</td>\n",
       "      <td>3.613524</td>\n",
       "      <td>8.601545</td>\n",
       "      <td>0.00632</td>\n",
       "      <td>0.082045</td>\n",
       "      <td>0.25651</td>\n",
       "      <td>3.677083</td>\n",
       "      <td>88.9762</td>\n",
       "    </tr>\n",
       "    <tr>\n",
       "      <th>landOver25K_sqft</th>\n",
       "      <td>506.0</td>\n",
       "      <td>11.363636</td>\n",
       "      <td>23.322453</td>\n",
       "      <td>0.00000</td>\n",
       "      <td>0.000000</td>\n",
       "      <td>0.00000</td>\n",
       "      <td>12.500000</td>\n",
       "      <td>100.0000</td>\n",
       "    </tr>\n",
       "    <tr>\n",
       "      <th>non-retailLandProptn</th>\n",
       "      <td>506.0</td>\n",
       "      <td>11.136779</td>\n",
       "      <td>6.860353</td>\n",
       "      <td>0.46000</td>\n",
       "      <td>5.190000</td>\n",
       "      <td>9.69000</td>\n",
       "      <td>18.100000</td>\n",
       "      <td>27.7400</td>\n",
       "    </tr>\n",
       "    <tr>\n",
       "      <th>riverDummy</th>\n",
       "      <td>506.0</td>\n",
       "      <td>0.069170</td>\n",
       "      <td>0.253994</td>\n",
       "      <td>0.00000</td>\n",
       "      <td>0.000000</td>\n",
       "      <td>0.00000</td>\n",
       "      <td>0.000000</td>\n",
       "      <td>1.0000</td>\n",
       "    </tr>\n",
       "    <tr>\n",
       "      <th>nitrixOxide_pp10m</th>\n",
       "      <td>506.0</td>\n",
       "      <td>0.554695</td>\n",
       "      <td>0.115878</td>\n",
       "      <td>0.38500</td>\n",
       "      <td>0.449000</td>\n",
       "      <td>0.53800</td>\n",
       "      <td>0.624000</td>\n",
       "      <td>0.8710</td>\n",
       "    </tr>\n",
       "    <tr>\n",
       "      <th>AvgNo.RoomsPerDwelling</th>\n",
       "      <td>506.0</td>\n",
       "      <td>6.284634</td>\n",
       "      <td>0.702617</td>\n",
       "      <td>3.56100</td>\n",
       "      <td>5.885500</td>\n",
       "      <td>6.20850</td>\n",
       "      <td>6.623500</td>\n",
       "      <td>8.7800</td>\n",
       "    </tr>\n",
       "    <tr>\n",
       "      <th>ProptnOwnerOccupied</th>\n",
       "      <td>506.0</td>\n",
       "      <td>68.574901</td>\n",
       "      <td>28.148861</td>\n",
       "      <td>2.90000</td>\n",
       "      <td>45.025000</td>\n",
       "      <td>77.50000</td>\n",
       "      <td>94.075000</td>\n",
       "      <td>100.0000</td>\n",
       "    </tr>\n",
       "    <tr>\n",
       "      <th>weightedDist</th>\n",
       "      <td>506.0</td>\n",
       "      <td>3.795043</td>\n",
       "      <td>2.105710</td>\n",
       "      <td>1.12960</td>\n",
       "      <td>2.100175</td>\n",
       "      <td>3.20745</td>\n",
       "      <td>5.188425</td>\n",
       "      <td>12.1265</td>\n",
       "    </tr>\n",
       "    <tr>\n",
       "      <th>radialHighwaysAccess</th>\n",
       "      <td>506.0</td>\n",
       "      <td>9.549407</td>\n",
       "      <td>8.707259</td>\n",
       "      <td>1.00000</td>\n",
       "      <td>4.000000</td>\n",
       "      <td>5.00000</td>\n",
       "      <td>24.000000</td>\n",
       "      <td>24.0000</td>\n",
       "    </tr>\n",
       "    <tr>\n",
       "      <th>propTaxRate_per10K</th>\n",
       "      <td>506.0</td>\n",
       "      <td>408.237154</td>\n",
       "      <td>168.537116</td>\n",
       "      <td>187.00000</td>\n",
       "      <td>279.000000</td>\n",
       "      <td>330.00000</td>\n",
       "      <td>666.000000</td>\n",
       "      <td>711.0000</td>\n",
       "    </tr>\n",
       "    <tr>\n",
       "      <th>pupilTeacherRatio</th>\n",
       "      <td>506.0</td>\n",
       "      <td>18.455534</td>\n",
       "      <td>2.164946</td>\n",
       "      <td>12.60000</td>\n",
       "      <td>17.400000</td>\n",
       "      <td>19.05000</td>\n",
       "      <td>20.200000</td>\n",
       "      <td>22.0000</td>\n",
       "    </tr>\n",
       "    <tr>\n",
       "      <th>pctLowerStatus</th>\n",
       "      <td>506.0</td>\n",
       "      <td>12.653063</td>\n",
       "      <td>7.141062</td>\n",
       "      <td>1.73000</td>\n",
       "      <td>6.950000</td>\n",
       "      <td>11.36000</td>\n",
       "      <td>16.955000</td>\n",
       "      <td>37.9700</td>\n",
       "    </tr>\n",
       "    <tr>\n",
       "      <th>medianValue_Ks</th>\n",
       "      <td>506.0</td>\n",
       "      <td>22.532806</td>\n",
       "      <td>9.197104</td>\n",
       "      <td>5.00000</td>\n",
       "      <td>17.025000</td>\n",
       "      <td>21.20000</td>\n",
       "      <td>25.000000</td>\n",
       "      <td>50.0000</td>\n",
       "    </tr>\n",
       "  </tbody>\n",
       "</table>\n",
       "</div>"
      ],
      "text/plain": [
       "                        count        mean         std        min         25%  \\\n",
       "crimeRatePerCapita      506.0    3.613524    8.601545    0.00632    0.082045   \n",
       "landOver25K_sqft        506.0   11.363636   23.322453    0.00000    0.000000   \n",
       "non-retailLandProptn    506.0   11.136779    6.860353    0.46000    5.190000   \n",
       "riverDummy              506.0    0.069170    0.253994    0.00000    0.000000   \n",
       "nitrixOxide_pp10m       506.0    0.554695    0.115878    0.38500    0.449000   \n",
       "AvgNo.RoomsPerDwelling  506.0    6.284634    0.702617    3.56100    5.885500   \n",
       "ProptnOwnerOccupied     506.0   68.574901   28.148861    2.90000   45.025000   \n",
       "weightedDist            506.0    3.795043    2.105710    1.12960    2.100175   \n",
       "radialHighwaysAccess    506.0    9.549407    8.707259    1.00000    4.000000   \n",
       "propTaxRate_per10K      506.0  408.237154  168.537116  187.00000  279.000000   \n",
       "pupilTeacherRatio       506.0   18.455534    2.164946   12.60000   17.400000   \n",
       "pctLowerStatus          506.0   12.653063    7.141062    1.73000    6.950000   \n",
       "medianValue_Ks          506.0   22.532806    9.197104    5.00000   17.025000   \n",
       "\n",
       "                              50%         75%       max  \n",
       "crimeRatePerCapita        0.25651    3.677083   88.9762  \n",
       "landOver25K_sqft          0.00000   12.500000  100.0000  \n",
       "non-retailLandProptn      9.69000   18.100000   27.7400  \n",
       "riverDummy                0.00000    0.000000    1.0000  \n",
       "nitrixOxide_pp10m         0.53800    0.624000    0.8710  \n",
       "AvgNo.RoomsPerDwelling    6.20850    6.623500    8.7800  \n",
       "ProptnOwnerOccupied      77.50000   94.075000  100.0000  \n",
       "weightedDist              3.20745    5.188425   12.1265  \n",
       "radialHighwaysAccess      5.00000   24.000000   24.0000  \n",
       "propTaxRate_per10K      330.00000  666.000000  711.0000  \n",
       "pupilTeacherRatio        19.05000   20.200000   22.0000  \n",
       "pctLowerStatus           11.36000   16.955000   37.9700  \n",
       "medianValue_Ks           21.20000   25.000000   50.0000  "
      ]
     },
     "execution_count": 51,
     "metadata": {},
     "output_type": "execute_result"
    }
   ],
   "source": [
    "# Calculate basic statistics for the numeric columns in the DataFrame\n",
    "renamedboston_packt.describe(include=[np.number]).T"
   ]
  },
  {
   "cell_type": "code",
   "execution_count": 52,
   "metadata": {},
   "outputs": [],
   "source": [
    "# Divide the DataFrame into training and test sets,\n",
    "X = renamedboston_packt.drop('crimeRatePerCapita', axis = 1)\n",
    "y = renamedboston_packt[['crimeRatePerCapita']]\n",
    "seed = 10 \n",
    "test_data_size = 0.3 \n",
    "X_train, X_test, y_train, y_test = train_test_split(X, y, test_size = test_data_size, random_state = seed)\n",
    "train_data = pd.concat([X_train, y_train], axis = 1)\n",
    "test_data = pd.concat([X_test, y_test], axis = 1)"
   ]
  },
  {
   "cell_type": "code",
   "execution_count": 53,
   "metadata": {},
   "outputs": [
    {
     "data": {
      "image/png": "[encoded data removed]",
      "text/plain": [
       "<Figure size 576x396 with 2 Axes>"
      ]
     },
     "execution_count": 53,
     "metadata": {},
     "output_type": "execute_result"
    },
    {
     "data": {
      "image/png": "[encoded data removed]",
      "text/plain": [
       "<Figure size 576x396 with 2 Axes>"
      ]
     },
     "metadata": {},
     "output_type": "display_data"
    }
   ],
   "source": [
    "# Calculate and plot a correlation matrix for the train_data set\n",
    "corrMatrix = train_data.corr(method = 'pearson')\n",
    "xnames=list(train_data.columns)\n",
    "ynames=list(train_data.columns)\n",
    "plot_corr(corrMatrix, xnames=xnames, ynames=ynames,title=None, normcolor=False, cmap='RdYlBu_r')"
   ]
  },
  {
   "cell_type": "code",
   "execution_count": 54,
   "metadata": {},
   "outputs": [
    {
     "data": {
      "text/html": [
       "<div>\n",
       "<style scoped>\n",
       "    .dataframe tbody tr th:only-of-type {\n",
       "        vertical-align: middle;\n",
       "    }\n",
       "\n",
       "    .dataframe tbody tr th {\n",
       "        vertical-align: top;\n",
       "    }\n",
       "\n",
       "    .dataframe thead th {\n",
       "        text-align: right;\n",
       "    }\n",
       "</style>\n",
       "<table border=\"1\" class=\"dataframe\">\n",
       "  <thead>\n",
       "    <tr style=\"text-align: right;\">\n",
       "      <th></th>\n",
       "      <th>landOver25K_sqft</th>\n",
       "      <th>non-retailLandProptn</th>\n",
       "      <th>riverDummy</th>\n",
       "      <th>nitrixOxide_pp10m</th>\n",
       "      <th>AvgNo.RoomsPerDwelling</th>\n",
       "      <th>ProptnOwnerOccupied</th>\n",
       "      <th>weightedDist</th>\n",
       "      <th>radialHighwaysAccess</th>\n",
       "      <th>propTaxRate_per10K</th>\n",
       "      <th>pupilTeacherRatio</th>\n",
       "      <th>pctLowerStatus</th>\n",
       "      <th>medianValue_Ks</th>\n",
       "      <th>crimeRatePerCapita</th>\n",
       "    </tr>\n",
       "  </thead>\n",
       "  <tbody>\n",
       "    <tr>\n",
       "      <th>landOver25K_sqft</th>\n",
       "      <td>1.000000</td>\n",
       "      <td>-0.540095</td>\n",
       "      <td>-0.059189</td>\n",
       "      <td>-0.520305</td>\n",
       "      <td>0.355346</td>\n",
       "      <td>-0.577457</td>\n",
       "      <td>0.659340</td>\n",
       "      <td>-0.311920</td>\n",
       "      <td>-0.324172</td>\n",
       "      <td>-0.424612</td>\n",
       "      <td>-0.435827</td>\n",
       "      <td>0.422574</td>\n",
       "      <td>-0.198455</td>\n",
       "    </tr>\n",
       "    <tr>\n",
       "      <th>non-retailLandProptn</th>\n",
       "      <td>-0.540095</td>\n",
       "      <td>1.000000</td>\n",
       "      <td>0.065271</td>\n",
       "      <td>0.758178</td>\n",
       "      <td>-0.399166</td>\n",
       "      <td>0.667887</td>\n",
       "      <td>-0.728968</td>\n",
       "      <td>0.580813</td>\n",
       "      <td>0.702973</td>\n",
       "      <td>0.398513</td>\n",
       "      <td>0.607457</td>\n",
       "      <td>-0.508338</td>\n",
       "      <td>0.387471</td>\n",
       "    </tr>\n",
       "    <tr>\n",
       "      <th>riverDummy</th>\n",
       "      <td>-0.059189</td>\n",
       "      <td>0.065271</td>\n",
       "      <td>1.000000</td>\n",
       "      <td>0.091469</td>\n",
       "      <td>0.107996</td>\n",
       "      <td>0.106329</td>\n",
       "      <td>-0.098551</td>\n",
       "      <td>0.022731</td>\n",
       "      <td>-0.007864</td>\n",
       "      <td>-0.094255</td>\n",
       "      <td>-0.041110</td>\n",
       "      <td>0.136831</td>\n",
       "      <td>-0.044587</td>\n",
       "    </tr>\n",
       "    <tr>\n",
       "      <th>nitrixOxide_pp10m</th>\n",
       "      <td>-0.520305</td>\n",
       "      <td>0.758178</td>\n",
       "      <td>0.091469</td>\n",
       "      <td>1.000000</td>\n",
       "      <td>-0.306510</td>\n",
       "      <td>0.742016</td>\n",
       "      <td>-0.776311</td>\n",
       "      <td>0.606721</td>\n",
       "      <td>0.662164</td>\n",
       "      <td>0.206809</td>\n",
       "      <td>0.603656</td>\n",
       "      <td>-0.453424</td>\n",
       "      <td>0.405813</td>\n",
       "    </tr>\n",
       "    <tr>\n",
       "      <th>AvgNo.RoomsPerDwelling</th>\n",
       "      <td>0.355346</td>\n",
       "      <td>-0.399166</td>\n",
       "      <td>0.107996</td>\n",
       "      <td>-0.306510</td>\n",
       "      <td>1.000000</td>\n",
       "      <td>-0.263085</td>\n",
       "      <td>0.215439</td>\n",
       "      <td>-0.183000</td>\n",
       "      <td>-0.280341</td>\n",
       "      <td>-0.350828</td>\n",
       "      <td>-0.586573</td>\n",
       "      <td>0.666761</td>\n",
       "      <td>-0.167258</td>\n",
       "    </tr>\n",
       "    <tr>\n",
       "      <th>ProptnOwnerOccupied</th>\n",
       "      <td>-0.577457</td>\n",
       "      <td>0.667887</td>\n",
       "      <td>0.106329</td>\n",
       "      <td>0.742016</td>\n",
       "      <td>-0.263085</td>\n",
       "      <td>1.000000</td>\n",
       "      <td>-0.751059</td>\n",
       "      <td>0.458717</td>\n",
       "      <td>0.515376</td>\n",
       "      <td>0.289976</td>\n",
       "      <td>0.639881</td>\n",
       "      <td>-0.419062</td>\n",
       "      <td>0.355730</td>\n",
       "    </tr>\n",
       "    <tr>\n",
       "      <th>weightedDist</th>\n",
       "      <td>0.659340</td>\n",
       "      <td>-0.728968</td>\n",
       "      <td>-0.098551</td>\n",
       "      <td>-0.776311</td>\n",
       "      <td>0.215439</td>\n",
       "      <td>-0.751059</td>\n",
       "      <td>1.000000</td>\n",
       "      <td>-0.494932</td>\n",
       "      <td>-0.543333</td>\n",
       "      <td>-0.259140</td>\n",
       "      <td>-0.522120</td>\n",
       "      <td>0.289658</td>\n",
       "      <td>-0.378997</td>\n",
       "    </tr>\n",
       "    <tr>\n",
       "      <th>radialHighwaysAccess</th>\n",
       "      <td>-0.311920</td>\n",
       "      <td>0.580813</td>\n",
       "      <td>0.022731</td>\n",
       "      <td>0.606721</td>\n",
       "      <td>-0.183000</td>\n",
       "      <td>0.458717</td>\n",
       "      <td>-0.494932</td>\n",
       "      <td>1.000000</td>\n",
       "      <td>0.908578</td>\n",
       "      <td>0.462290</td>\n",
       "      <td>0.456592</td>\n",
       "      <td>-0.383132</td>\n",
       "      <td>0.608838</td>\n",
       "    </tr>\n",
       "    <tr>\n",
       "      <th>propTaxRate_per10K</th>\n",
       "      <td>-0.324172</td>\n",
       "      <td>0.702973</td>\n",
       "      <td>-0.007864</td>\n",
       "      <td>0.662164</td>\n",
       "      <td>-0.280341</td>\n",
       "      <td>0.515376</td>\n",
       "      <td>-0.543333</td>\n",
       "      <td>0.908578</td>\n",
       "      <td>1.000000</td>\n",
       "      <td>0.462556</td>\n",
       "      <td>0.528029</td>\n",
       "      <td>-0.478903</td>\n",
       "      <td>0.565035</td>\n",
       "    </tr>\n",
       "    <tr>\n",
       "      <th>pupilTeacherRatio</th>\n",
       "      <td>-0.424612</td>\n",
       "      <td>0.398513</td>\n",
       "      <td>-0.094255</td>\n",
       "      <td>0.206809</td>\n",
       "      <td>-0.350828</td>\n",
       "      <td>0.289976</td>\n",
       "      <td>-0.259140</td>\n",
       "      <td>0.462290</td>\n",
       "      <td>0.462556</td>\n",
       "      <td>1.000000</td>\n",
       "      <td>0.374842</td>\n",
       "      <td>-0.503692</td>\n",
       "      <td>0.276530</td>\n",
       "    </tr>\n",
       "    <tr>\n",
       "      <th>pctLowerStatus</th>\n",
       "      <td>-0.435827</td>\n",
       "      <td>0.607457</td>\n",
       "      <td>-0.041110</td>\n",
       "      <td>0.603656</td>\n",
       "      <td>-0.586573</td>\n",
       "      <td>0.639881</td>\n",
       "      <td>-0.522120</td>\n",
       "      <td>0.456592</td>\n",
       "      <td>0.528029</td>\n",
       "      <td>0.374842</td>\n",
       "      <td>1.000000</td>\n",
       "      <td>-0.743548</td>\n",
       "      <td>0.406340</td>\n",
       "    </tr>\n",
       "    <tr>\n",
       "      <th>medianValue_Ks</th>\n",
       "      <td>0.422574</td>\n",
       "      <td>-0.508338</td>\n",
       "      <td>0.136831</td>\n",
       "      <td>-0.453424</td>\n",
       "      <td>0.666761</td>\n",
       "      <td>-0.419062</td>\n",
       "      <td>0.289658</td>\n",
       "      <td>-0.383132</td>\n",
       "      <td>-0.478903</td>\n",
       "      <td>-0.503692</td>\n",
       "      <td>-0.743548</td>\n",
       "      <td>1.000000</td>\n",
       "      <td>-0.378949</td>\n",
       "    </tr>\n",
       "    <tr>\n",
       "      <th>crimeRatePerCapita</th>\n",
       "      <td>-0.198455</td>\n",
       "      <td>0.387471</td>\n",
       "      <td>-0.044587</td>\n",
       "      <td>0.405813</td>\n",
       "      <td>-0.167258</td>\n",
       "      <td>0.355730</td>\n",
       "      <td>-0.378997</td>\n",
       "      <td>0.608838</td>\n",
       "      <td>0.565035</td>\n",
       "      <td>0.276530</td>\n",
       "      <td>0.406340</td>\n",
       "      <td>-0.378949</td>\n",
       "      <td>1.000000</td>\n",
       "    </tr>\n",
       "  </tbody>\n",
       "</table>\n",
       "</div>"
      ],
      "text/plain": [
       "                        landOver25K_sqft  non-retailLandProptn  riverDummy  \\\n",
       "landOver25K_sqft                1.000000             -0.540095   -0.059189   \n",
       "non-retailLandProptn           -0.540095              1.000000    0.065271   \n",
       "riverDummy                     -0.059189              0.065271    1.000000   \n",
       "nitrixOxide_pp10m              -0.520305              0.758178    0.091469   \n",
       "AvgNo.RoomsPerDwelling          0.355346             -0.399166    0.107996   \n",
       "ProptnOwnerOccupied            -0.577457              0.667887    0.106329   \n",
       "weightedDist                    0.659340             -0.728968   -0.098551   \n",
       "radialHighwaysAccess           -0.311920              0.580813    0.022731   \n",
       "propTaxRate_per10K             -0.324172              0.702973   -0.007864   \n",
       "pupilTeacherRatio              -0.424612              0.398513   -0.094255   \n",
       "pctLowerStatus                 -0.435827              0.607457   -0.041110   \n",
       "medianValue_Ks                  0.422574             -0.508338    0.136831   \n",
       "crimeRatePerCapita             -0.198455              0.387471   -0.044587   \n",
       "\n",
       "                        nitrixOxide_pp10m  AvgNo.RoomsPerDwelling  \\\n",
       "landOver25K_sqft                -0.520305                0.355346   \n",
       "non-retailLandProptn             0.758178               -0.399166   \n",
       "riverDummy                       0.091469                0.107996   \n",
       "nitrixOxide_pp10m                1.000000               -0.306510   \n",
       "AvgNo.RoomsPerDwelling          -0.306510                1.000000   \n",
       "ProptnOwnerOccupied              0.742016               -0.263085   \n",
       "weightedDist                    -0.776311                0.215439   \n",
       "radialHighwaysAccess             0.606721               -0.183000   \n",
       "propTaxRate_per10K               0.662164               -0.280341   \n",
       "pupilTeacherRatio                0.206809               -0.350828   \n",
       "pctLowerStatus                   0.603656               -0.586573   \n",
       "medianValue_Ks                  -0.453424                0.666761   \n",
       "crimeRatePerCapita               0.405813               -0.167258   \n",
       "\n",
       "                        ProptnOwnerOccupied  weightedDist  \\\n",
       "landOver25K_sqft                  -0.577457      0.659340   \n",
       "non-retailLandProptn               0.667887     -0.728968   \n",
       "riverDummy                         0.106329     -0.098551   \n",
       "nitrixOxide_pp10m                  0.742016     -0.776311   \n",
       "AvgNo.RoomsPerDwelling            -0.263085      0.215439   \n",
       "ProptnOwnerOccupied                1.000000     -0.751059   \n",
       "weightedDist                      -0.751059      1.000000   \n",
       "radialHighwaysAccess               0.458717     -0.494932   \n",
       "propTaxRate_per10K                 0.515376     -0.543333   \n",
       "pupilTeacherRatio                  0.289976     -0.259140   \n",
       "pctLowerStatus                     0.639881     -0.522120   \n",
       "medianValue_Ks                    -0.419062      0.289658   \n",
       "crimeRatePerCapita                 0.355730     -0.378997   \n",
       "\n",
       "                        radialHighwaysAccess  propTaxRate_per10K  \\\n",
       "landOver25K_sqft                   -0.311920           -0.324172   \n",
       "non-retailLandProptn                0.580813            0.702973   \n",
       "riverDummy                          0.022731           -0.007864   \n",
       "nitrixOxide_pp10m                   0.606721            0.662164   \n",
       "AvgNo.RoomsPerDwelling             -0.183000           -0.280341   \n",
       "ProptnOwnerOccupied                 0.458717            0.515376   \n",
       "weightedDist                       -0.494932           -0.543333   \n",
       "radialHighwaysAccess                1.000000            0.908578   \n",
       "propTaxRate_per10K                  0.908578            1.000000   \n",
       "pupilTeacherRatio                   0.462290            0.462556   \n",
       "pctLowerStatus                      0.456592            0.528029   \n",
       "medianValue_Ks                     -0.383132           -0.478903   \n",
       "crimeRatePerCapita                  0.608838            0.565035   \n",
       "\n",
       "                        pupilTeacherRatio  pctLowerStatus  medianValue_Ks  \\\n",
       "landOver25K_sqft                -0.424612       -0.435827        0.422574   \n",
       "non-retailLandProptn             0.398513        0.607457       -0.508338   \n",
       "riverDummy                      -0.094255       -0.041110        0.136831   \n",
       "nitrixOxide_pp10m                0.206809        0.603656       -0.453424   \n",
       "AvgNo.RoomsPerDwelling          -0.350828       -0.586573        0.666761   \n",
       "ProptnOwnerOccupied              0.289976        0.639881       -0.419062   \n",
       "weightedDist                    -0.259140       -0.522120        0.289658   \n",
       "radialHighwaysAccess             0.462290        0.456592       -0.383132   \n",
       "propTaxRate_per10K               0.462556        0.528029       -0.478903   \n",
       "pupilTeacherRatio                1.000000        0.374842       -0.503692   \n",
       "pctLowerStatus                   0.374842        1.000000       -0.743548   \n",
       "medianValue_Ks                  -0.503692       -0.743548        1.000000   \n",
       "crimeRatePerCapita               0.276530        0.406340       -0.378949   \n",
       "\n",
       "                        crimeRatePerCapita  \n",
       "landOver25K_sqft                 -0.198455  \n",
       "non-retailLandProptn              0.387471  \n",
       "riverDummy                       -0.044587  \n",
       "nitrixOxide_pp10m                 0.405813  \n",
       "AvgNo.RoomsPerDwelling           -0.167258  \n",
       "ProptnOwnerOccupied               0.355730  \n",
       "weightedDist                     -0.378997  \n",
       "radialHighwaysAccess              0.608838  \n",
       "propTaxRate_per10K                0.565035  \n",
       "pupilTeacherRatio                 0.276530  \n",
       "pctLowerStatus                    0.406340  \n",
       "medianValue_Ks                   -0.378949  \n",
       "crimeRatePerCapita                1.000000  "
      ]
     },
     "execution_count": 54,
     "metadata": {},
     "output_type": "execute_result"
    }
   ],
   "source": [
    "# The Correlation Coefficient\n",
    "train_data.corr (method = 'pearson')"
   ]
  },
  {
   "cell_type": "code",
   "execution_count": 62,
   "metadata": {},
   "outputs": [
    {
     "data": {
      "image/png": "[encoded data removed]",
      "text/plain": [
       "<Figure size 720x432 with 1 Axes>"
      ]
     },
     "metadata": {},
     "output_type": "display_data"
    }
   ],
   "source": [
    "# Graphical Investigation of Linear Relationships Using Python\n",
    "# Use the subplots function in matplotlib to define a canvas\n",
    "fig, ax = plt.subplots(figsize=(10, 6))\n",
    "# Use the seaborn function regplot to create the scatter plot\n",
    "sns.regplot(x='medianValue_Ks', y='crimeRatePerCapita', \n",
    "            ci=None, data=train_data, ax=ax, \n",
    "            color='k', \n",
    "            scatter_kws={\"s\": 20,\"color\": \"royalblue\", \"alpha\":1})\n",
    "# Set the x and y labels, the fontsize and name labels, the x and y limits, \n",
    "#and the tickparameters of the matplotlib graph object (ax). \n",
    "# Also, set the layout of the canvas to tight:\n",
    "ax.set_ylabel('Crime rate per Capita', fontsize=15, fontname='DejaVu Sans')\n",
    "ax.set_xlabel(\"Median value of owner-occupied homes in $1000's\", fontsize=15, fontname='DejaVu Sans')\n",
    "ax.set_xlim(left=None, right=None)\n",
    "ax.set_ylim(bottom=None, top=30)\n",
    "ax.tick_params(axis='both', which='major', labelsize=12)\n",
    "fig.tight_layout()"
   ]
  },
  {
   "cell_type": "code",
   "execution_count": null,
   "metadata": {},
   "outputs": [],
   "source": [
    "# Examining a Possible Log-Linear Relationship Using Python\n",
    "# We will use the logarithm function to transform variables \n",
    "#and investigate whether this helps provide a better fit of \n",
    "#the regression line to the data"
   ]
  },
  {
   "cell_type": "code",
   "execution_count": 63,
   "metadata": {},
   "outputs": [
    {
     "data": {
      "image/png": "[encoded data removed]",
      "text/plain": [
       "<Figure size 720x432 with 1 Axes>"
      ]
     },
     "metadata": {},
     "output_type": "display_data"
    }
   ],
   "source": [
    "# Use the subplots function in matplotlib to define a canvas and a graph object in Python\n",
    "fig, ax = plt.subplots(figsize=(10, 6))\n",
    "# Use the logarithm function in numpy (np.log) to transform the dependent variable\n",
    "y = np.log(train_data['crimeRatePerCapita'])\n",
    "# Use the seaborn regplot function to create the scatter plot.\n",
    "sns.regplot(x='medianValue_Ks', \n",
    "            y=y, ci=95, data=train_data, ax=ax, \n",
    "            color='k', scatter_kws={\"s\": 20,\"color\": \"royalblue\", \"alpha\":1})\n",
    "# Set the x and y labels, the fontsize and name labels, the x and y limits, \n",
    "#and the tickparameters of the matplotlib graph object (ax)\n",
    "ax.set_ylabel('log of Crime rate per Capita', fontsize=15, fontname='DejaVu Sans')\n",
    "ax.set_xlabel(\"Median value of owner-occupied homes in $1000's\", fontsize=15, fontname='DejaVu Sans')\n",
    "ax.set_xlim(left=None, right=None)\n",
    "ax.set_ylim(bottom=None, top=None)\n",
    "ax.tick_params(axis='both', which='major', labelsize=12)\n",
    "fig.tight_layout()"
   ]
  },
  {
   "cell_type": "code",
   "execution_count": null,
   "metadata": {},
   "outputs": [],
   "source": [
    "# The Statsmodels formula API\n",
    "# The statsmodels formula API enables the data scientist to use the \n",
    "#formula language to define regression models that can be found in statistics \n",
    "#literature and many dedicated statistical computer packages"
   ]
  },
  {
   "cell_type": "code",
   "execution_count": 64,
   "metadata": {},
   "outputs": [
    {
     "data": {
      "text/html": [
       "<div>\n",
       "<style scoped>\n",
       "    .dataframe tbody tr th:only-of-type {\n",
       "        vertical-align: middle;\n",
       "    }\n",
       "\n",
       "    .dataframe tbody tr th {\n",
       "        vertical-align: top;\n",
       "    }\n",
       "\n",
       "    .dataframe thead th {\n",
       "        text-align: right;\n",
       "    }\n",
       "</style>\n",
       "<table border=\"1\" class=\"dataframe\">\n",
       "  <thead>\n",
       "    <tr style=\"text-align: right;\">\n",
       "      <th></th>\n",
       "      <th>CRIM</th>\n",
       "      <th>ZN</th>\n",
       "      <th>INDUS</th>\n",
       "      <th>CHAS</th>\n",
       "      <th>NOX</th>\n",
       "      <th>RM</th>\n",
       "      <th>AGE</th>\n",
       "      <th>DIS</th>\n",
       "      <th>RAD</th>\n",
       "      <th>TAX</th>\n",
       "      <th>PTRATIO</th>\n",
       "      <th>LSTAT</th>\n",
       "      <th>MEDV</th>\n",
       "    </tr>\n",
       "  </thead>\n",
       "  <tbody>\n",
       "    <tr>\n",
       "      <th>0</th>\n",
       "      <td>0.00632</td>\n",
       "      <td>18.0</td>\n",
       "      <td>2.31</td>\n",
       "      <td>0</td>\n",
       "      <td>0.538</td>\n",
       "      <td>6.575</td>\n",
       "      <td>65.2</td>\n",
       "      <td>4.0900</td>\n",
       "      <td>1</td>\n",
       "      <td>296</td>\n",
       "      <td>15.3</td>\n",
       "      <td>4.98</td>\n",
       "      <td>24.0</td>\n",
       "    </tr>\n",
       "    <tr>\n",
       "      <th>1</th>\n",
       "      <td>0.02731</td>\n",
       "      <td>0.0</td>\n",
       "      <td>7.07</td>\n",
       "      <td>0</td>\n",
       "      <td>0.469</td>\n",
       "      <td>6.421</td>\n",
       "      <td>78.9</td>\n",
       "      <td>4.9671</td>\n",
       "      <td>2</td>\n",
       "      <td>242</td>\n",
       "      <td>17.8</td>\n",
       "      <td>9.14</td>\n",
       "      <td>21.6</td>\n",
       "    </tr>\n",
       "    <tr>\n",
       "      <th>2</th>\n",
       "      <td>0.02729</td>\n",
       "      <td>0.0</td>\n",
       "      <td>7.07</td>\n",
       "      <td>0</td>\n",
       "      <td>0.469</td>\n",
       "      <td>7.185</td>\n",
       "      <td>61.1</td>\n",
       "      <td>4.9671</td>\n",
       "      <td>2</td>\n",
       "      <td>242</td>\n",
       "      <td>17.8</td>\n",
       "      <td>4.03</td>\n",
       "      <td>34.7</td>\n",
       "    </tr>\n",
       "    <tr>\n",
       "      <th>3</th>\n",
       "      <td>0.03237</td>\n",
       "      <td>0.0</td>\n",
       "      <td>2.18</td>\n",
       "      <td>0</td>\n",
       "      <td>0.458</td>\n",
       "      <td>6.998</td>\n",
       "      <td>45.8</td>\n",
       "      <td>6.0622</td>\n",
       "      <td>3</td>\n",
       "      <td>222</td>\n",
       "      <td>18.7</td>\n",
       "      <td>2.94</td>\n",
       "      <td>33.4</td>\n",
       "    </tr>\n",
       "    <tr>\n",
       "      <th>4</th>\n",
       "      <td>0.06905</td>\n",
       "      <td>0.0</td>\n",
       "      <td>2.18</td>\n",
       "      <td>0</td>\n",
       "      <td>0.458</td>\n",
       "      <td>7.147</td>\n",
       "      <td>54.2</td>\n",
       "      <td>6.0622</td>\n",
       "      <td>3</td>\n",
       "      <td>222</td>\n",
       "      <td>18.7</td>\n",
       "      <td>5.33</td>\n",
       "      <td>36.2</td>\n",
       "    </tr>\n",
       "  </tbody>\n",
       "</table>\n",
       "</div>"
      ],
      "text/plain": [
       "      CRIM   ZN   INDUS   CHAS    NOX     RM   AGE     DIS  RAD  TAX  PTRATIO  \\\n",
       "0  0.00632  18.0    2.31     0  0.538  6.575  65.2  4.0900    1  296     15.3   \n",
       "1  0.02731   0.0    7.07     0  0.469  6.421  78.9  4.9671    2  242     17.8   \n",
       "2  0.02729   0.0    7.07     0  0.469  7.185  61.1  4.9671    2  242     17.8   \n",
       "3  0.03237   0.0    2.18     0  0.458  6.998  45.8  6.0622    3  222     18.7   \n",
       "4  0.06905   0.0    2.18     0  0.458  7.147  54.2  6.0622    3  222     18.7   \n",
       "\n",
       "   LSTAT  MEDV  \n",
       "0   4.98  24.0  \n",
       "1   9.14  21.6  \n",
       "2   4.03  34.7  \n",
       "3   2.94  33.4  \n",
       "4   5.33  36.2  "
      ]
     },
     "execution_count": 64,
     "metadata": {},
     "output_type": "execute_result"
    }
   ],
   "source": [
    "# Fitting a Simple Linear Regression Model Using the Statsmodels formula API\n",
    "# Load the dataset for Regression\n",
    "# Two Boston Housing Dataset from Datacentral and Packt for Data Science Workshop\n",
    "boston_packt = pd.read_csv('Boston_packt.csv')\n",
    "boston_packt.head()"
   ]
  },
  {
   "cell_type": "code",
   "execution_count": 65,
   "metadata": {},
   "outputs": [
    {
     "data": {
      "text/plain": [
       "CRIM       0\n",
       " ZN        0\n",
       "INDUS      0\n",
       "CHAS       0\n",
       "NOX        0\n",
       "RM         0\n",
       "AGE        0\n",
       "DIS        0\n",
       "RAD        0\n",
       "TAX        0\n",
       "PTRATIO    0\n",
       "LSTAT      0\n",
       "MEDV       0\n",
       "dtype: int64"
      ]
     },
     "execution_count": 65,
     "metadata": {},
     "output_type": "execute_result"
    }
   ],
   "source": [
    "# Check for missing values\n",
    "boston_packt.isnull().sum()"
   ]
  },
  {
   "cell_type": "code",
   "execution_count": 66,
   "metadata": {},
   "outputs": [],
   "source": [
    "# Rename the DataFrame columns so that they are meaningful.\n",
    "renamedboston_packt = boston_packt.rename(columns= {'CRIM':'crimeRatePerCapita', \n",
    "                                                    ' ZN ':'landOver25K_sqft', \n",
    "                                                    'INDUS ':'non-retailLandProptn', \n",
    "                                                    'CHAS':'riverDummy', \n",
    "                                                    'NOX':'nitrixOxide_pp10m', \n",
    "                                                    'RM':'AvgNo.RoomsPerDwelling', \n",
    "                                                    'AGE':'ProptnOwnerOccupied', \n",
    "                                                    'DIS':'weightedDist', \n",
    "                                                    'RAD':'radialHighwaysAccess', \n",
    "                                                    'TAX':'propTaxRate_per10K', \n",
    "                                                    'PTRATIO':'pupilTeacherRatio', \n",
    "                                                    'LSTAT':'pctLowerStatus', \n",
    "                                                    'MEDV':'medianValue_Ks'})"
   ]
  },
  {
   "cell_type": "code",
   "execution_count": 67,
   "metadata": {},
   "outputs": [
    {
     "data": {
      "text/html": [
       "<div>\n",
       "<style scoped>\n",
       "    .dataframe tbody tr th:only-of-type {\n",
       "        vertical-align: middle;\n",
       "    }\n",
       "\n",
       "    .dataframe tbody tr th {\n",
       "        vertical-align: top;\n",
       "    }\n",
       "\n",
       "    .dataframe thead th {\n",
       "        text-align: right;\n",
       "    }\n",
       "</style>\n",
       "<table border=\"1\" class=\"dataframe\">\n",
       "  <thead>\n",
       "    <tr style=\"text-align: right;\">\n",
       "      <th></th>\n",
       "      <th>crimeRatePerCapita</th>\n",
       "      <th>landOver25K_sqft</th>\n",
       "      <th>non-retailLandProptn</th>\n",
       "      <th>riverDummy</th>\n",
       "      <th>nitrixOxide_pp10m</th>\n",
       "      <th>AvgNo.RoomsPerDwelling</th>\n",
       "      <th>ProptnOwnerOccupied</th>\n",
       "      <th>weightedDist</th>\n",
       "      <th>radialHighwaysAccess</th>\n",
       "      <th>propTaxRate_per10K</th>\n",
       "      <th>pupilTeacherRatio</th>\n",
       "      <th>pctLowerStatus</th>\n",
       "      <th>medianValue_Ks</th>\n",
       "    </tr>\n",
       "  </thead>\n",
       "  <tbody>\n",
       "    <tr>\n",
       "      <th>0</th>\n",
       "      <td>0.00632</td>\n",
       "      <td>18.0</td>\n",
       "      <td>2.31</td>\n",
       "      <td>0</td>\n",
       "      <td>0.538</td>\n",
       "      <td>6.575</td>\n",
       "      <td>65.2</td>\n",
       "      <td>4.0900</td>\n",
       "      <td>1</td>\n",
       "      <td>296</td>\n",
       "      <td>15.3</td>\n",
       "      <td>4.98</td>\n",
       "      <td>24.0</td>\n",
       "    </tr>\n",
       "    <tr>\n",
       "      <th>1</th>\n",
       "      <td>0.02731</td>\n",
       "      <td>0.0</td>\n",
       "      <td>7.07</td>\n",
       "      <td>0</td>\n",
       "      <td>0.469</td>\n",
       "      <td>6.421</td>\n",
       "      <td>78.9</td>\n",
       "      <td>4.9671</td>\n",
       "      <td>2</td>\n",
       "      <td>242</td>\n",
       "      <td>17.8</td>\n",
       "      <td>9.14</td>\n",
       "      <td>21.6</td>\n",
       "    </tr>\n",
       "    <tr>\n",
       "      <th>2</th>\n",
       "      <td>0.02729</td>\n",
       "      <td>0.0</td>\n",
       "      <td>7.07</td>\n",
       "      <td>0</td>\n",
       "      <td>0.469</td>\n",
       "      <td>7.185</td>\n",
       "      <td>61.1</td>\n",
       "      <td>4.9671</td>\n",
       "      <td>2</td>\n",
       "      <td>242</td>\n",
       "      <td>17.8</td>\n",
       "      <td>4.03</td>\n",
       "      <td>34.7</td>\n",
       "    </tr>\n",
       "    <tr>\n",
       "      <th>3</th>\n",
       "      <td>0.03237</td>\n",
       "      <td>0.0</td>\n",
       "      <td>2.18</td>\n",
       "      <td>0</td>\n",
       "      <td>0.458</td>\n",
       "      <td>6.998</td>\n",
       "      <td>45.8</td>\n",
       "      <td>6.0622</td>\n",
       "      <td>3</td>\n",
       "      <td>222</td>\n",
       "      <td>18.7</td>\n",
       "      <td>2.94</td>\n",
       "      <td>33.4</td>\n",
       "    </tr>\n",
       "    <tr>\n",
       "      <th>4</th>\n",
       "      <td>0.06905</td>\n",
       "      <td>0.0</td>\n",
       "      <td>2.18</td>\n",
       "      <td>0</td>\n",
       "      <td>0.458</td>\n",
       "      <td>7.147</td>\n",
       "      <td>54.2</td>\n",
       "      <td>6.0622</td>\n",
       "      <td>3</td>\n",
       "      <td>222</td>\n",
       "      <td>18.7</td>\n",
       "      <td>5.33</td>\n",
       "      <td>36.2</td>\n",
       "    </tr>\n",
       "  </tbody>\n",
       "</table>\n",
       "</div>"
      ],
      "text/plain": [
       "   crimeRatePerCapita  landOver25K_sqft  non-retailLandProptn  riverDummy  \\\n",
       "0             0.00632              18.0                  2.31           0   \n",
       "1             0.02731               0.0                  7.07           0   \n",
       "2             0.02729               0.0                  7.07           0   \n",
       "3             0.03237               0.0                  2.18           0   \n",
       "4             0.06905               0.0                  2.18           0   \n",
       "\n",
       "   nitrixOxide_pp10m  AvgNo.RoomsPerDwelling  ProptnOwnerOccupied  \\\n",
       "0              0.538                   6.575                 65.2   \n",
       "1              0.469                   6.421                 78.9   \n",
       "2              0.469                   7.185                 61.1   \n",
       "3              0.458                   6.998                 45.8   \n",
       "4              0.458                   7.147                 54.2   \n",
       "\n",
       "   weightedDist  radialHighwaysAccess  propTaxRate_per10K  pupilTeacherRatio  \\\n",
       "0        4.0900                     1                 296               15.3   \n",
       "1        4.9671                     2                 242               17.8   \n",
       "2        4.9671                     2                 242               17.8   \n",
       "3        6.0622                     3                 222               18.7   \n",
       "4        6.0622                     3                 222               18.7   \n",
       "\n",
       "   pctLowerStatus  medianValue_Ks  \n",
       "0            4.98            24.0  \n",
       "1            9.14            21.6  \n",
       "2            4.03            34.7  \n",
       "3            2.94            33.4  \n",
       "4            5.33            36.2  "
      ]
     },
     "execution_count": 67,
     "metadata": {},
     "output_type": "execute_result"
    }
   ],
   "source": [
    "renamedboston_packt.head()"
   ]
  },
  {
   "cell_type": "code",
   "execution_count": 68,
   "metadata": {},
   "outputs": [],
   "source": [
    "# Divide the DataFrame into training and test sets,\n",
    "X = renamedboston_packt.drop('crimeRatePerCapita', axis = 1)\n",
    "y = renamedboston_packt[['crimeRatePerCapita']]\n",
    "seed = 10 \n",
    "test_data_size = 0.3 \n",
    "X_train, X_test, y_train, y_test = train_test_split(X, y, test_size = test_data_size, random_state = seed)\n",
    "train_data = pd.concat([X_train, y_train], axis = 1)\n",
    "test_data = pd.concat([X_test, y_test], axis = 1)"
   ]
  },
  {
   "cell_type": "code",
   "execution_count": 69,
   "metadata": {},
   "outputs": [],
   "source": [
    "# Define a linear regression model and assign it to a variable named linearModel:\n",
    "linearModel = smf.ols(formula='crimeRatePerCapita ~ medianValue_Ks', data=train_data)"
   ]
  },
  {
   "cell_type": "code",
   "execution_count": 70,
   "metadata": {},
   "outputs": [],
   "source": [
    "# Call the .fit method of the model instance and assign the results of the method to a linearModelResult variable\n",
    "linearModelResult = linearModel.fit()"
   ]
  },
  {
   "cell_type": "code",
   "execution_count": 71,
   "metadata": {},
   "outputs": [
    {
     "name": "stdout",
     "output_type": "stream",
     "text": [
      "                            OLS Regression Results                            \n",
      "==============================================================================\n",
      "Dep. Variable:     crimeRatePerCapita   R-squared:                       0.144\n",
      "Model:                            OLS   Adj. R-squared:                  0.141\n",
      "Method:                 Least Squares   F-statistic:                     59.02\n",
      "Date:                Fri, 05 Mar 2021   Prob (F-statistic):           1.56e-13\n",
      "Time:                        19:54:54   Log-Likelihood:                -1217.4\n",
      "No. Observations:                 354   AIC:                             2439.\n",
      "Df Residuals:                     352   BIC:                             2447.\n",
      "Df Model:                           1                                         \n",
      "Covariance Type:            nonrobust                                         \n",
      "==================================================================================\n",
      "                     coef    std err          t      P>|t|      [0.025      0.975]\n",
      "----------------------------------------------------------------------------------\n",
      "Intercept         11.2094      1.079     10.386      0.000       9.087      13.332\n",
      "medianValue_Ks    -0.3502      0.046     -7.683      0.000      -0.440      -0.261\n",
      "==============================================================================\n",
      "Omnibus:                      447.354   Durbin-Watson:                   1.928\n",
      "Prob(Omnibus):                  0.000   Jarque-Bera (JB):            39791.431\n",
      "Skew:                           5.897   Prob(JB):                         0.00\n",
      "Kurtosis:                      53.583   Cond. No.                         63.7\n",
      "==============================================================================\n",
      "\n",
      "Notes:\n",
      "[1] Standard Errors assume that the covariance matrix of the errors is correctly specified.\n"
     ]
    }
   ],
   "source": [
    "# Print a summary of the results stored the linearModelResult variable\n",
    "print(linearModelResult.summary())"
   ]
  },
  {
   "cell_type": "code",
   "execution_count": null,
   "metadata": {},
   "outputs": [],
   "source": []
  }
 ],
 "metadata": {
  "kernelspec": {
   "display_name": "Python 3",
   "language": "python",
   "name": "python3"
  },
  "language_info": {
   "codemirror_mode": {
    "name": "ipython",
    "version": 3
   },
   "file_extension": ".py",
   "mimetype": "text/x-python",
   "name": "python",
   "nbconvert_exporter": "python",
   "pygments_lexer": "ipython3",
   "version": "3.8.8"
  }
 },
 "nbformat": 4,
 "nbformat_minor": 4
}
